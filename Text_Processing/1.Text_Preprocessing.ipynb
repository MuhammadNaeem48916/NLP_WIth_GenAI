{
 "cells": [
  {
   "cell_type": "markdown",
   "id": "2e377222",
   "metadata": {},
   "source": [
    "# NLP Preprocessing Notebook (Beginner-Friendly)"
   ]
  },
  {
   "cell_type": "markdown",
   "id": "56d386b8",
   "metadata": {},
   "source": [
    "In NLP, raw text data is unstructured and noisy, which makes it difficult for models to learn meaningful patterns. Preprocessing helps transform this raw data into a clean, structured, and useful format for training language models."
   ]
  },
  {
   "cell_type": "markdown",
   "id": "73251fe4",
   "metadata": {},
   "source": [
    "### Step 1: Install required libraries (Run only once)"
   ]
  },
  {
   "cell_type": "code",
   "execution_count": 1,
   "id": "aaa04f8f",
   "metadata": {},
   "outputs": [],
   "source": [
    "#pip install nltk    # nltk is a Library for NLP to perform Text preprocessing"
   ]
  },
  {
   "cell_type": "code",
   "execution_count": 1,
   "id": "bbb3e7b8",
   "metadata": {},
   "outputs": [],
   "source": [
    "import nltk\n",
    "import re\n",
    "import string\n",
    "from nltk.corpus import stopwords\n",
    "from nltk.tokenize import word_tokenize,TreebankWordTokenizer\n",
    "from nltk.stem import PorterStemmer, WordNetLemmatizer"
   ]
  },
  {
   "cell_type": "code",
   "execution_count": 2,
   "id": "62010cfa",
   "metadata": {},
   "outputs": [
    {
     "name": "stderr",
     "output_type": "stream",
     "text": [
      "[nltk_data] Downloading package punkt to\n",
      "[nltk_data]     C:\\Users\\naeem\\AppData\\Roaming\\nltk_data...\n",
      "[nltk_data]   Package punkt is already up-to-date!\n",
      "[nltk_data] Downloading package stopwords to\n",
      "[nltk_data]     C:\\Users\\naeem\\AppData\\Roaming\\nltk_data...\n",
      "[nltk_data]   Package stopwords is already up-to-date!\n",
      "[nltk_data] Downloading package wordnet to\n",
      "[nltk_data]     C:\\Users\\naeem\\AppData\\Roaming\\nltk_data...\n",
      "[nltk_data]   Package wordnet is already up-to-date!\n"
     ]
    },
    {
     "data": {
      "text/plain": [
       "True"
      ]
     },
     "execution_count": 2,
     "metadata": {},
     "output_type": "execute_result"
    }
   ],
   "source": [
    "# Download necessary data\n",
    "nltk.download('punkt')\n",
    "nltk.download('stopwords')\n",
    "nltk.download('wordnet')"
   ]
  },
  {
   "cell_type": "markdown",
   "id": "c50f4319",
   "metadata": {},
   "source": [
    "### Step 2: Sample Raw Text"
   ]
  },
  {
   "cell_type": "code",
   "execution_count": 3,
   "id": "ad72adaf",
   "metadata": {},
   "outputs": [],
   "source": [
    "text = \"Hello! Welcome to NLP with Gen AI. It's amazing, isn't it? Let's learn together in 2025!\""
   ]
  },
  {
   "cell_type": "code",
   "execution_count": 4,
   "id": "2ac2213e",
   "metadata": {},
   "outputs": [
    {
     "name": "stdout",
     "output_type": "stream",
     "text": [
      "Original Text:\n",
      "Hello! Welcome to NLP with Gen AI. It's amazing, isn't it? Let's learn together in 2025!\n"
     ]
    }
   ],
   "source": [
    "print(\"Original Text:\")\n",
    "print(text)"
   ]
  },
  {
   "cell_type": "markdown",
   "id": "3a426428",
   "metadata": {},
   "source": [
    "### Step 3: Lowercase"
   ]
  },
  {
   "cell_type": "code",
   "execution_count": 5,
   "id": "ee6b3b9b",
   "metadata": {},
   "outputs": [],
   "source": [
    "text_lower = text.lower()"
   ]
  },
  {
   "cell_type": "code",
   "execution_count": 6,
   "id": "f986c37b",
   "metadata": {},
   "outputs": [
    {
     "name": "stdout",
     "output_type": "stream",
     "text": [
      "hello! welcome to nlp with gen ai. it's amazing, isn't it? let's learn together in 2025!\n"
     ]
    }
   ],
   "source": [
    "print(text_lower)"
   ]
  },
  {
   "cell_type": "markdown",
   "id": "b79b2734",
   "metadata": {},
   "source": [
    "### Step 4: Remove Punctuation"
   ]
  },
  {
   "cell_type": "code",
   "execution_count": 7,
   "id": "bd7e81c7",
   "metadata": {},
   "outputs": [],
   "source": [
    "text_no_punct = text_lower.translate(str.maketrans('', '', string.punctuation))"
   ]
  },
  {
   "cell_type": "code",
   "execution_count": 8,
   "id": "725049c9",
   "metadata": {},
   "outputs": [
    {
     "name": "stdout",
     "output_type": "stream",
     "text": [
      "hello welcome to nlp with gen ai its amazing isnt it lets learn together in 2025\n"
     ]
    }
   ],
   "source": [
    "print(text_no_punct)"
   ]
  },
  {
   "cell_type": "markdown",
   "id": "e91aea5c",
   "metadata": {},
   "source": [
    "### Step 5: Remove Numbers"
   ]
  },
  {
   "cell_type": "code",
   "execution_count": 9,
   "id": "2836e424",
   "metadata": {},
   "outputs": [],
   "source": [
    "text_no_numbers = re.sub(r'\\d+', '', text_no_punct)"
   ]
  },
  {
   "cell_type": "code",
   "execution_count": 10,
   "id": "22515f74",
   "metadata": {},
   "outputs": [
    {
     "name": "stdout",
     "output_type": "stream",
     "text": [
      "hello welcome to nlp with gen ai its amazing isnt it lets learn together in \n"
     ]
    }
   ],
   "source": [
    "print(text_no_numbers)"
   ]
  },
  {
   "cell_type": "markdown",
   "id": "4ca5bef6",
   "metadata": {},
   "source": [
    "### Step 6: Tokenization"
   ]
  },
  {
   "cell_type": "code",
   "execution_count": 11,
   "id": "1d1db142",
   "metadata": {},
   "outputs": [],
   "source": [
    "tokenizer = TreebankWordTokenizer()\n",
    "\n",
    "tokens = tokenizer.tokenize(text_no_numbers)\n"
   ]
  },
  {
   "cell_type": "code",
   "execution_count": 12,
   "id": "9dfd0ace",
   "metadata": {},
   "outputs": [
    {
     "name": "stdout",
     "output_type": "stream",
     "text": [
      "Tokens: ['hello', 'welcome', 'to', 'nlp', 'with', 'gen', 'ai', 'its', 'amazing', 'isnt', 'it', 'lets', 'learn', 'together', 'in']\n"
     ]
    }
   ],
   "source": [
    "print(\"Tokens:\", tokens)"
   ]
  },
  {
   "cell_type": "markdown",
   "id": "f8b379d0",
   "metadata": {},
   "source": [
    "### Step 7: Remove Stopwords"
   ]
  },
  {
   "cell_type": "code",
   "execution_count": 13,
   "id": "05249092",
   "metadata": {},
   "outputs": [],
   "source": [
    "stop_words = set(stopwords.words('english'))\n",
    "filtered_tokens = [w for w in tokens if w not in stop_words]"
   ]
  },
  {
   "cell_type": "code",
   "execution_count": 14,
   "id": "7d66547b",
   "metadata": {},
   "outputs": [
    {
     "name": "stdout",
     "output_type": "stream",
     "text": [
      "{'itself', \"don't\", 'most', 'each', 'during', 'more', 'them', 'did', 'how', \"i'd\", 'needn', 'not', 'i', 'from', 'd', 'in', 't', 'which', 'hadn', \"it'll\", \"they'd\", 'having', \"doesn't\", 'after', 'doesn', \"hasn't\", 'such', \"wouldn't\", 'but', 'off', 'against', 'up', \"they've\", 'when', 'before', \"couldn't\", 'me', 'no', 'aren', \"we'd\", 'll', 'into', 'if', 'few', 'at', 'ain', 'between', 'were', \"won't\", 'was', 'have', 'these', 'on', 'will', \"he'll\", 'her', 'am', \"it's\", \"it'd\", 'so', 'where', \"we're\", 'or', 'won', 'above', 'now', 'what', \"i've\", 've', 'of', \"you'll\", \"shouldn't\", 'their', 'mustn', \"aren't\", 'while', 'themselves', \"isn't\", \"i'll\", 'it', 'our', \"she's\", 'didn', 'down', 'too', 'nor', 'other', 'whom', 'can', 'for', 'its', \"she'll\", 'those', 'we', 'any', 'had', 'isn', 'this', 'wouldn', 'who', 'theirs', \"they'll\", 'myself', 'couldn', 'ourselves', \"weren't\", 'your', \"should've\", \"you've\", \"didn't\", 'herself', 'just', 'shouldn', 'ma', \"that'll\", \"haven't\", 'himself', 'weren', 'has', \"mightn't\", 'my', 'they', 'very', 's', 'wasn', 'with', 'm', 'being', 'both', 'over', 'here', 'she', \"wasn't\", \"she'd\", 'yourself', 'out', 'to', \"mustn't\", 'yours', 'through', 'be', 'shan', 'he', 'o', 'same', 'hasn', \"shan't\", 'an', 'hers', \"he's\", 'below', 'his', 'yourselves', 'why', 'don', \"i'm\", 'do', 'that', 'should', 'then', 'once', 'under', 'only', 'haven', 'some', 'and', 'been', 'a', \"hadn't\", 'y', 'again', 'by', \"you're\", \"we've\", 'you', 'does', 'because', \"he'd\", \"we'll\", 'than', 'is', 'doing', 'until', 'own', 'are', 're', 'about', 'further', \"they're\", 'ours', 'mightn', \"needn't\", 'there', 'as', \"you'd\", 'him', 'all', 'the'}\n"
     ]
    }
   ],
   "source": [
    "print(stop_words)"
   ]
  },
  {
   "cell_type": "code",
   "execution_count": 15,
   "id": "e105497a",
   "metadata": {},
   "outputs": [
    {
     "name": "stdout",
     "output_type": "stream",
     "text": [
      "['hello', 'welcome', 'nlp', 'gen', 'ai', 'amazing', 'isnt', 'lets', 'learn', 'together']\n"
     ]
    }
   ],
   "source": [
    "print(filtered_tokens)"
   ]
  },
  {
   "cell_type": "markdown",
   "id": "358fc927",
   "metadata": {},
   "source": [
    "### Step 8: Stemming"
   ]
  },
  {
   "cell_type": "code",
   "execution_count": 16,
   "id": "7701cf57",
   "metadata": {},
   "outputs": [],
   "source": [
    "stemmer = PorterStemmer()\n",
    "stemmed = [stemmer.stem(word) for word in filtered_tokens]"
   ]
  },
  {
   "cell_type": "code",
   "execution_count": 17,
   "id": "fd5a9104",
   "metadata": {},
   "outputs": [
    {
     "name": "stdout",
     "output_type": "stream",
     "text": [
      "['hello', 'welcom', 'nlp', 'gen', 'ai', 'amaz', 'isnt', 'let', 'learn', 'togeth']\n"
     ]
    }
   ],
   "source": [
    "print(stemmed)"
   ]
  },
  {
   "cell_type": "markdown",
   "id": "c7115573",
   "metadata": {},
   "source": [
    "### Step 9: Lemmatization"
   ]
  },
  {
   "cell_type": "code",
   "execution_count": 18,
   "id": "5cd07d0d",
   "metadata": {},
   "outputs": [],
   "source": [
    "lemmatizer = WordNetLemmatizer()\n",
    "lemmatized = [lemmatizer.lemmatize(word) for word in filtered_tokens]"
   ]
  },
  {
   "cell_type": "code",
   "execution_count": 19,
   "id": "97d6323b",
   "metadata": {},
   "outputs": [
    {
     "name": "stdout",
     "output_type": "stream",
     "text": [
      "['hello', 'welcome', 'nlp', 'gen', 'ai', 'amazing', 'isnt', 'let', 'learn', 'together']\n"
     ]
    }
   ],
   "source": [
    "print(lemmatized)"
   ]
  },
  {
   "cell_type": "code",
   "execution_count": null,
   "id": "dfeb935b",
   "metadata": {},
   "outputs": [],
   "source": []
  }
 ],
 "metadata": {
  "kernelspec": {
   "display_name": "nlp_pro",
   "language": "python",
   "name": "python3"
  },
  "language_info": {
   "codemirror_mode": {
    "name": "ipython",
    "version": 3
   },
   "file_extension": ".py",
   "mimetype": "text/x-python",
   "name": "python",
   "nbconvert_exporter": "python",
   "pygments_lexer": "ipython3",
   "version": "3.13.5"
  }
 },
 "nbformat": 4,
 "nbformat_minor": 5
}
